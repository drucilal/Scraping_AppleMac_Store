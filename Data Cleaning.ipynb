{
 "cells": [
  {
   "cell_type": "markdown",
   "metadata": {},
   "source": [
    "# Data Cleaning on Scraped Apple Mac App Store"
   ]
  },
  {
   "cell_type": "markdown",
   "metadata": {},
   "source": [
    "#### Import library"
   ]
  },
  {
   "cell_type": "code",
   "execution_count": 3,
   "metadata": {},
   "outputs": [],
   "source": [
    "import pandas as pd\n",
    "import numpy as np"
   ]
  },
  {
   "cell_type": "markdown",
   "metadata": {},
   "source": [
    "#### Importing  files\n",
    "##### Importing by genre"
   ]
  },
  {
   "cell_type": "code",
   "execution_count": 2,
   "metadata": {},
   "outputs": [],
   "source": [
    "business = pd.read_csv('mac_business.csv',encoding = 'latin1')\n",
    "education = pd.read_csv('mac_education.csv',encoding = 'latin1')\n",
    "graphics = pd.read_csv('mac_graphicdesign.csv',encoding = 'latin1')\n",
    "medical = pd.read_csv('mac_medical.csv',encoding = 'latin1')\n",
    "music = pd.read_csv('mac_music.csv',encoding = 'latin1')\n",
    "photography = pd.read_csv('mac_photography.csv',encoding = 'latin1')\n",
    "video = pd.read_csv('mac_video.csv',encoding = 'latin1')"
   ]
  },
  {
   "cell_type": "markdown",
   "metadata": {},
   "source": [
    "#### Putting all the datasets togehter"
   ]
  },
  {
   "cell_type": "code",
   "execution_count": null,
   "metadata": {},
   "outputs": [],
   "source": [
    "mac_store = pd.concat([bus,edu,graph,med,mus,photo,vid])"
   ]
  },
  {
   "cell_type": "code",
   "execution_count": null,
   "metadata": {},
   "outputs": [],
   "source": [
    "# Removing unnecessary columns \n",
    "mac_store = mac_store.drop(['Unnamed: 2', 'Unnamed: 6'], axis=1)"
   ]
  },
  {
   "cell_type": "markdown",
   "metadata": {},
   "source": [
    "#### Combining the languages into one variable : total_languages "
   ]
  },
  {
   "cell_type": "code",
   "execution_count": null,
   "metadata": {},
   "outputs": [],
   "source": [
    "l = mac_store['languages'].str.split(',', expand=True).rename(columns = lambda x: \"language\"+str(x+1))\n",
    "l['col_total'] = l.apply(lambda x: x.count(), axis=1)\n",
    "df1 = l.iloc[:,-1]\n",
    "mac = pd.concat([mac_store, df1], axis=1, sort=False)\n",
    "mac.rename(columns = {'col_total':'total_languages'}, inplace = True) \n",
    "mac = mac.drop(['languages'], axis=1)"
   ]
  },
  {
   "cell_type": "markdown",
   "metadata": {},
   "source": [
    "#### Let's check if there are any missing values in the datasets"
   ]
  },
  {
   "cell_type": "code",
   "execution_count": null,
   "metadata": {},
   "outputs": [],
   "source": [
    "mac_apps.isnull().any()"
   ]
  },
  {
   "cell_type": "markdown",
   "metadata": {},
   "source": [
    "#### Creating a price.category variable: 1 - Paid App, 2 - Free App"
   ]
  },
  {
   "cell_type": "code",
   "execution_count": null,
   "metadata": {},
   "outputs": [],
   "source": [
    "mac_apps['price'] = mac_apps['price'].str.replace('$', '')\n",
    "mac_apps['price'] = mac_apps['price'].round()\n",
    "mac_apps['price'] = mac_apps['price'].replace({'ght å© 2014 - 2019, Brave Cakes Studio':-1})\n",
    "mac_apps['price'] = mac_apps['price'].replace({'Free':0})\n",
    "mac_apps['price'] = mac_apps['price'].astype(float)\n",
    "mac_apps['price'] = mac_apps['price'].astype(int)\n",
    "\n",
    "# Create new variable \n",
    "mac_apps['price_category'] = mac_apps['price'].apply(lambda x:1 if x > 0 else 0)"
   ]
  },
  {
   "cell_type": "markdown",
   "metadata": {},
   "source": [
    "#### Filling in missing values "
   ]
  },
  {
   "cell_type": "code",
   "execution_count": null,
   "metadata": {},
   "outputs": [],
   "source": [
    "mac_apps.loc[:, \"name\"] = mac_apps.loc[:, \"name\"].fillna(\"None\")\n",
    "mac_apps.loc[:, \"price\"] = mac_apps.loc[:, \"price\"].fillna(-1)\n",
    "mac_apps.loc[:, \"rating\"] = mac_apps.loc[:, \"rating\"].fillna(0)\n",
    "mac_apps.loc[:, \"size\"] = mac_apps.loc[:, \"size\"].fillna('O B')"
   ]
  },
  {
   "cell_type": "markdown",
   "metadata": {},
   "source": [
    "#### Creating cleaned file"
   ]
  },
  {
   "cell_type": "code",
   "execution_count": null,
   "metadata": {},
   "outputs": [],
   "source": [
    "mac_apps.to_csv('macappstore.csv')"
   ]
  }
 ],
 "metadata": {
  "kernelspec": {
   "display_name": "Python 3",
   "language": "python",
   "name": "python3"
  },
  "language_info": {
   "codemirror_mode": {
    "name": "ipython",
    "version": 3
   },
   "file_extension": ".py",
   "mimetype": "text/x-python",
   "name": "python",
   "nbconvert_exporter": "python",
   "pygments_lexer": "ipython3",
   "version": "3.7.3"
  }
 },
 "nbformat": 4,
 "nbformat_minor": 2
}
